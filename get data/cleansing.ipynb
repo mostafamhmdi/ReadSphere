{
 "cells": [
  {
   "cell_type": "code",
   "execution_count": 1,
   "metadata": {},
   "outputs": [],
   "source": [
    "import pandas as pd"
   ]
  },
  {
   "cell_type": "code",
   "execution_count": 2,
   "metadata": {},
   "outputs": [],
   "source": [
    "df=pd.read_json('books.json',orient='records')"
   ]
  },
  {
   "cell_type": "code",
   "execution_count": 3,
   "metadata": {},
   "outputs": [
    {
     "data": {
      "text/plain": [
       "(100, 7)"
      ]
     },
     "execution_count": 3,
     "metadata": {},
     "output_type": "execute_result"
    }
   ],
   "source": [
    "df.shape"
   ]
  },
  {
   "cell_type": "code",
   "execution_count": 4,
   "metadata": {},
   "outputs": [
    {
     "data": {
      "text/html": [
       "<div>\n",
       "<style scoped>\n",
       "    .dataframe tbody tr th:only-of-type {\n",
       "        vertical-align: middle;\n",
       "    }\n",
       "\n",
       "    .dataframe tbody tr th {\n",
       "        vertical-align: top;\n",
       "    }\n",
       "\n",
       "    .dataframe thead th {\n",
       "        text-align: right;\n",
       "    }\n",
       "</style>\n",
       "<table border=\"1\" class=\"dataframe\">\n",
       "  <thead>\n",
       "    <tr style=\"text-align: right;\">\n",
       "      <th></th>\n",
       "      <th>index</th>\n",
       "      <th>name</th>\n",
       "      <th>author</th>\n",
       "      <th>rating</th>\n",
       "      <th>description</th>\n",
       "      <th>genres</th>\n",
       "      <th>price</th>\n",
       "    </tr>\n",
       "  </thead>\n",
       "  <tbody>\n",
       "    <tr>\n",
       "      <th>0</th>\n",
       "      <td>1</td>\n",
       "      <td>The Hunger Games</td>\n",
       "      <td>Suzanne Collins</td>\n",
       "      <td>4.33</td>\n",
       "      <td>In the ruins of a place once known as North Am...</td>\n",
       "      <td>Young Adult,Fiction,Fantasy,Dystopia,Science F...</td>\n",
       "      <td>213,917</td>\n",
       "    </tr>\n",
       "    <tr>\n",
       "      <th>1</th>\n",
       "      <td>2</td>\n",
       "      <td>The Book Thief</td>\n",
       "      <td>Markus Zusak</td>\n",
       "      <td>4.39</td>\n",
       "      <td>It is 1939. Nazi Germany. The country is holdi...</td>\n",
       "      <td>Historical Fiction,Fiction,Young Adult,Histori...</td>\n",
       "      <td>142,389</td>\n",
       "    </tr>\n",
       "    <tr>\n",
       "      <th>2</th>\n",
       "      <td>3</td>\n",
       "      <td>J.R.R. Tolkien 4-Book Boxed Set: The Hobbit an...</td>\n",
       "      <td>J.R.R. Tolkien</td>\n",
       "      <td>4.61</td>\n",
       "      <td>This four-volume, boxed set contains J.R.R. To...</td>\n",
       "      <td>Fantasy,Fiction,Classics,Adventure,Science Fic...</td>\n",
       "      <td>2,230</td>\n",
       "    </tr>\n",
       "    <tr>\n",
       "      <th>3</th>\n",
       "      <td>4</td>\n",
       "      <td>The Picture of Dorian Gray</td>\n",
       "      <td>Oscar Wilde</td>\n",
       "      <td>4.12</td>\n",
       "      <td>Oscar Wilde’s only novel is the dreamlike stor...</td>\n",
       "      <td>Classics,Fiction,Horror,Fantasy,Gothic,Literat...</td>\n",
       "      <td>66,583</td>\n",
       "    </tr>\n",
       "    <tr>\n",
       "      <th>4</th>\n",
       "      <td>5</td>\n",
       "      <td>The Chronicles of Narnia</td>\n",
       "      <td>C.S. Lewis</td>\n",
       "      <td>4.27</td>\n",
       "      <td>Journeys to the end of the world, fantastic cr...</td>\n",
       "      <td>Fantasy,Classics,Fiction,Young Adult,Childrens...</td>\n",
       "      <td>12,403</td>\n",
       "    </tr>\n",
       "    <tr>\n",
       "      <th>...</th>\n",
       "      <td>...</td>\n",
       "      <td>...</td>\n",
       "      <td>...</td>\n",
       "      <td>...</td>\n",
       "      <td>...</td>\n",
       "      <td>...</td>\n",
       "      <td>...</td>\n",
       "    </tr>\n",
       "    <tr>\n",
       "      <th>95</th>\n",
       "      <td>96</td>\n",
       "      <td>Crime and Punishment</td>\n",
       "      <td>Fyodor Dostoevsky</td>\n",
       "      <td>4.26</td>\n",
       "      <td>Raskolnikov, a destitute and desperate former ...</td>\n",
       "      <td>Classics,Fiction,Russia,Literature,Russian Lit...</td>\n",
       "      <td>34,682</td>\n",
       "    </tr>\n",
       "    <tr>\n",
       "      <th>96</th>\n",
       "      <td>97</td>\n",
       "      <td>Harry Potter and the Sorcerer’s Stone</td>\n",
       "      <td>J.K. Rowling</td>\n",
       "      <td>4.47</td>\n",
       "      <td>\"Turning the envelope over, his hand trembling...</td>\n",
       "      <td>Fantasy,Fiction,Young Adult,Magic,Childrens,Mi...</td>\n",
       "      <td>158,305</td>\n",
       "    </tr>\n",
       "    <tr>\n",
       "      <th>97</th>\n",
       "      <td>98</td>\n",
       "      <td>The Perks of Being a Wallflower</td>\n",
       "      <td>Stephen Chbosky</td>\n",
       "      <td>4.23</td>\n",
       "      <td>standing on the fringes of life...,offers a un...</td>\n",
       "      <td>Young Adult,Fiction,Coming Of Age,Classics,Rom...</td>\n",
       "      <td>88,671</td>\n",
       "    </tr>\n",
       "    <tr>\n",
       "      <th>98</th>\n",
       "      <td>99</td>\n",
       "      <td>Memoirs of a Geisha</td>\n",
       "      <td>Arthur Golden</td>\n",
       "      <td>4.15</td>\n",
       "      <td>A literary sensation and runaway bestseller, t...</td>\n",
       "      <td>Fiction,Historical Fiction,Romance,Classics,Hi...</td>\n",
       "      <td>35,502</td>\n",
       "    </tr>\n",
       "    <tr>\n",
       "      <th>99</th>\n",
       "      <td>100</td>\n",
       "      <td>Wuthering Heights</td>\n",
       "      <td>Emily Brontë</td>\n",
       "      <td>3.89</td>\n",
       "      <td>At the centre of this novel is the passionate ...</td>\n",
       "      <td>Classics,Fiction,Romance,Gothic,Historical Fic...</td>\n",
       "      <td>59,760</td>\n",
       "    </tr>\n",
       "  </tbody>\n",
       "</table>\n",
       "<p>100 rows × 7 columns</p>\n",
       "</div>"
      ],
      "text/plain": [
       "    index                                               name  \\\n",
       "0       1                                   The Hunger Games   \n",
       "1       2                                     The Book Thief   \n",
       "2       3  J.R.R. Tolkien 4-Book Boxed Set: The Hobbit an...   \n",
       "3       4                         The Picture of Dorian Gray   \n",
       "4       5                           The Chronicles of Narnia   \n",
       "..    ...                                                ...   \n",
       "95     96                               Crime and Punishment   \n",
       "96     97              Harry Potter and the Sorcerer’s Stone   \n",
       "97     98                    The Perks of Being a Wallflower   \n",
       "98     99                                Memoirs of a Geisha   \n",
       "99    100                                  Wuthering Heights   \n",
       "\n",
       "               author  rating  \\\n",
       "0     Suzanne Collins    4.33   \n",
       "1        Markus Zusak    4.39   \n",
       "2      J.R.R. Tolkien    4.61   \n",
       "3         Oscar Wilde    4.12   \n",
       "4          C.S. Lewis    4.27   \n",
       "..                ...     ...   \n",
       "95  Fyodor Dostoevsky    4.26   \n",
       "96       J.K. Rowling    4.47   \n",
       "97    Stephen Chbosky    4.23   \n",
       "98      Arthur Golden    4.15   \n",
       "99       Emily Brontë    3.89   \n",
       "\n",
       "                                          description  \\\n",
       "0   In the ruins of a place once known as North Am...   \n",
       "1   It is 1939. Nazi Germany. The country is holdi...   \n",
       "2   This four-volume, boxed set contains J.R.R. To...   \n",
       "3   Oscar Wilde’s only novel is the dreamlike stor...   \n",
       "4   Journeys to the end of the world, fantastic cr...   \n",
       "..                                                ...   \n",
       "95  Raskolnikov, a destitute and desperate former ...   \n",
       "96  \"Turning the envelope over, his hand trembling...   \n",
       "97  standing on the fringes of life...,offers a un...   \n",
       "98  A literary sensation and runaway bestseller, t...   \n",
       "99  At the centre of this novel is the passionate ...   \n",
       "\n",
       "                                               genres    price  \n",
       "0   Young Adult,Fiction,Fantasy,Dystopia,Science F...  213,917  \n",
       "1   Historical Fiction,Fiction,Young Adult,Histori...  142,389  \n",
       "2   Fantasy,Fiction,Classics,Adventure,Science Fic...    2,230  \n",
       "3   Classics,Fiction,Horror,Fantasy,Gothic,Literat...   66,583  \n",
       "4   Fantasy,Classics,Fiction,Young Adult,Childrens...   12,403  \n",
       "..                                                ...      ...  \n",
       "95  Classics,Fiction,Russia,Literature,Russian Lit...   34,682  \n",
       "96  Fantasy,Fiction,Young Adult,Magic,Childrens,Mi...  158,305  \n",
       "97  Young Adult,Fiction,Coming Of Age,Classics,Rom...   88,671  \n",
       "98  Fiction,Historical Fiction,Romance,Classics,Hi...   35,502  \n",
       "99  Classics,Fiction,Romance,Gothic,Historical Fic...   59,760  \n",
       "\n",
       "[100 rows x 7 columns]"
      ]
     },
     "execution_count": 4,
     "metadata": {},
     "output_type": "execute_result"
    }
   ],
   "source": [
    "df"
   ]
  },
  {
   "cell_type": "code",
   "execution_count": 5,
   "metadata": {},
   "outputs": [
    {
     "data": {
      "text/plain": [
       "0    Young Adult,Fiction,Fantasy,Dystopia,Science F...\n",
       "1    Historical Fiction,Fiction,Young Adult,Histori...\n",
       "2    Fantasy,Fiction,Classics,Adventure,Science Fic...\n",
       "3    Classics,Fiction,Horror,Fantasy,Gothic,Literat...\n",
       "4    Fantasy,Classics,Fiction,Young Adult,Childrens...\n",
       "5    Classics,Fiction,Dystopia,Fantasy,School,Liter...\n",
       "6    Young Adult,Romance,Fiction,Vampires,Paranorma...\n",
       "7    Classics,Historical Fiction,Fiction,Romance,Hi...\n",
       "8                                                     \n",
       "9    Classics,Fiction,Romance,Historical Fiction,Hi...\n",
       "Name: genres, dtype: object"
      ]
     },
     "execution_count": 5,
     "metadata": {},
     "output_type": "execute_result"
    }
   ],
   "source": [
    "df['genres'].head(10)"
   ]
  },
  {
   "cell_type": "code",
   "execution_count": 6,
   "metadata": {},
   "outputs": [],
   "source": [
    "genres_list = df['genres'].str.split(',').explode().str.strip()"
   ]
  },
  {
   "cell_type": "code",
   "execution_count": 7,
   "metadata": {},
   "outputs": [
    {
     "data": {
      "text/plain": [
       "Fiction                    97\n",
       "Classics                   73\n",
       "Fantasy                    45\n",
       "Literature                 41\n",
       "Young Adult                37\n",
       "Historical Fiction         33\n",
       "Novels                     25\n",
       "School                     20\n",
       "Historical                 19\n",
       "Science Fiction            18\n",
       "Childrens                  18\n",
       "Romance                    17\n",
       "Adventure                  16\n",
       "Audiobook                  14\n",
       "Dystopia                   12\n",
       "Middle Grade               10\n",
       "Horror                     10\n",
       "Mystery                     9\n",
       "Gothic                      8\n",
       "Thriller                    8\n",
       "Contemporary                7\n",
       "Adult                       7\n",
       "Paranormal                  6\n",
       "Philosophy                  5\n",
       "Science Fiction Fantasy     5\n",
       "Name: genres, dtype: int64"
      ]
     },
     "execution_count": 7,
     "metadata": {},
     "output_type": "execute_result"
    }
   ],
   "source": [
    "genres_list.value_counts().head(25)"
   ]
  },
  {
   "cell_type": "code",
   "execution_count": 8,
   "metadata": {},
   "outputs": [],
   "source": [
    "for genre in ['Philosophy','Horror','Romance','Adventure','Historical','Fantasy','Classics']:\n",
    "    df['genres'] = df['genres'].apply(lambda x: genre if isinstance(x, str) and genre in x else x)"
   ]
  },
  {
   "cell_type": "code",
   "execution_count": 9,
   "metadata": {},
   "outputs": [
    {
     "data": {
      "text/plain": [
       "0        Fantasy\n",
       "1     Historical\n",
       "2      Adventure\n",
       "3         Horror\n",
       "4      Adventure\n",
       "         ...    \n",
       "95    Philosophy\n",
       "96       Fantasy\n",
       "97       Romance\n",
       "98       Romance\n",
       "99       Romance\n",
       "Name: genres, Length: 100, dtype: object"
      ]
     },
     "execution_count": 9,
     "metadata": {},
     "output_type": "execute_result"
    }
   ],
   "source": [
    "df['genres']"
   ]
  },
  {
   "cell_type": "code",
   "execution_count": 10,
   "metadata": {},
   "outputs": [
    {
     "data": {
      "text/plain": [
       "Historical                                                                   20\n",
       "Fantasy                                                                      17\n",
       "Romance                                                                      17\n",
       "Adventure                                                                    15\n",
       "Classics                                                                     12\n",
       "Horror                                                                       10\n",
       "Philosophy                                                                    5\n",
       "                                                                              2\n",
       "Fiction,Chick Lit,Young Adult,Drama,Adult,Adult Fiction,Realistic Fiction     1\n",
       "Fiction,Mystery,Thriller,Crime,Mystery Thriller,Suspense,Contemporary         1\n",
       "Name: genres, dtype: int64"
      ]
     },
     "execution_count": 10,
     "metadata": {},
     "output_type": "execute_result"
    }
   ],
   "source": [
    "df['genres'].value_counts()"
   ]
  },
  {
   "cell_type": "code",
   "execution_count": 11,
   "metadata": {},
   "outputs": [],
   "source": [
    "df['genres'].replace('','Philosophy',inplace=True)\n",
    "df['genres'].replace('Fiction,Chick Lit,Young Adult,Drama,Adult,Adult Fiction,Realistic Fiction','Philosophy',inplace=True)\n",
    "df['genres'].replace('Fiction,Mystery,Thriller,Crime,Mystery Thriller,Suspense,Contemporary','Philosophy',inplace=True)"
   ]
  },
  {
   "cell_type": "code",
   "execution_count": 12,
   "metadata": {},
   "outputs": [
    {
     "data": {
      "text/plain": [
       "Historical    20\n",
       "Fantasy       17\n",
       "Romance       17\n",
       "Adventure     15\n",
       "Classics      12\n",
       "Horror        10\n",
       "Philosophy     9\n",
       "Name: genres, dtype: int64"
      ]
     },
     "execution_count": 12,
     "metadata": {},
     "output_type": "execute_result"
    }
   ],
   "source": [
    "df['genres'].value_counts()"
   ]
  },
  {
   "cell_type": "code",
   "execution_count": 13,
   "metadata": {},
   "outputs": [],
   "source": [
    "df['name'] = df['name'].str.replace(':', '')"
   ]
  },
  {
   "cell_type": "code",
   "execution_count": 14,
   "metadata": {},
   "outputs": [],
   "source": [
    "import os\n",
    "\n",
    "folder_path = \"D:/ReadSphere/get data/images\"\n",
    "\n",
    "image_files = [f for f in os.listdir(folder_path) if os.path.isfile(os.path.join(folder_path, f))]"
   ]
  },
  {
   "cell_type": "code",
   "execution_count": 15,
   "metadata": {},
   "outputs": [],
   "source": [
    "im_files=[]\n",
    "for image in image_files:\n",
    "    im_files.append(image.split('.')[0])"
   ]
  },
  {
   "cell_type": "code",
   "execution_count": 16,
   "metadata": {},
   "outputs": [],
   "source": [
    "df.drop_duplicates('name', keep='last', inplace=True)"
   ]
  },
  {
   "cell_type": "code",
   "execution_count": 17,
   "metadata": {},
   "outputs": [],
   "source": [
    "image_files_set = set(im_files)\n",
    "\n",
    "book_names_set = set(df['name'])"
   ]
  },
  {
   "cell_type": "code",
   "execution_count": 18,
   "metadata": {},
   "outputs": [
    {
     "data": {
      "text/plain": [
       "98"
      ]
     },
     "execution_count": 18,
     "metadata": {},
     "output_type": "execute_result"
    }
   ],
   "source": [
    "len(image_files_set)"
   ]
  },
  {
   "cell_type": "code",
   "execution_count": 19,
   "metadata": {},
   "outputs": [],
   "source": [
    "missing_books = book_names_set-image_files_set"
   ]
  },
  {
   "cell_type": "code",
   "execution_count": 20,
   "metadata": {},
   "outputs": [
    {
     "data": {
      "text/plain": [
       "{'Alice’s Adventures in Wonderland / Through the Looking-Glass',\n",
       " 'J.R.R. Tolkien 4-Book Boxed Set The Hobbit and The Lord of the Rings'}"
      ]
     },
     "execution_count": 20,
     "metadata": {},
     "output_type": "execute_result"
    }
   ],
   "source": [
    "missing_books"
   ]
  },
  {
   "cell_type": "code",
   "execution_count": 21,
   "metadata": {},
   "outputs": [],
   "source": [
    "df = df[df['name'] != 'Alice’s Adventures in Wonderland / Through the Looking-Glass']"
   ]
  },
  {
   "cell_type": "code",
   "execution_count": 22,
   "metadata": {},
   "outputs": [
    {
     "data": {
      "text/html": [
       "<div>\n",
       "<style scoped>\n",
       "    .dataframe tbody tr th:only-of-type {\n",
       "        vertical-align: middle;\n",
       "    }\n",
       "\n",
       "    .dataframe tbody tr th {\n",
       "        vertical-align: top;\n",
       "    }\n",
       "\n",
       "    .dataframe thead th {\n",
       "        text-align: right;\n",
       "    }\n",
       "</style>\n",
       "<table border=\"1\" class=\"dataframe\">\n",
       "  <thead>\n",
       "    <tr style=\"text-align: right;\">\n",
       "      <th></th>\n",
       "      <th>index</th>\n",
       "      <th>name</th>\n",
       "      <th>author</th>\n",
       "      <th>rating</th>\n",
       "      <th>description</th>\n",
       "      <th>genres</th>\n",
       "      <th>price</th>\n",
       "    </tr>\n",
       "  </thead>\n",
       "  <tbody>\n",
       "    <tr>\n",
       "      <th>0</th>\n",
       "      <td>1</td>\n",
       "      <td>The Hunger Games</td>\n",
       "      <td>Suzanne Collins</td>\n",
       "      <td>4.33</td>\n",
       "      <td>In the ruins of a place once known as North Am...</td>\n",
       "      <td>Fantasy</td>\n",
       "      <td>213,917</td>\n",
       "    </tr>\n",
       "    <tr>\n",
       "      <th>1</th>\n",
       "      <td>2</td>\n",
       "      <td>The Book Thief</td>\n",
       "      <td>Markus Zusak</td>\n",
       "      <td>4.39</td>\n",
       "      <td>It is 1939. Nazi Germany. The country is holdi...</td>\n",
       "      <td>Historical</td>\n",
       "      <td>142,389</td>\n",
       "    </tr>\n",
       "    <tr>\n",
       "      <th>2</th>\n",
       "      <td>3</td>\n",
       "      <td>J.R.R. Tolkien 4-Book Boxed Set The Hobbit and...</td>\n",
       "      <td>J.R.R. Tolkien</td>\n",
       "      <td>4.61</td>\n",
       "      <td>This four-volume, boxed set contains J.R.R. To...</td>\n",
       "      <td>Adventure</td>\n",
       "      <td>2,230</td>\n",
       "    </tr>\n",
       "    <tr>\n",
       "      <th>3</th>\n",
       "      <td>4</td>\n",
       "      <td>The Picture of Dorian Gray</td>\n",
       "      <td>Oscar Wilde</td>\n",
       "      <td>4.12</td>\n",
       "      <td>Oscar Wilde’s only novel is the dreamlike stor...</td>\n",
       "      <td>Horror</td>\n",
       "      <td>66,583</td>\n",
       "    </tr>\n",
       "    <tr>\n",
       "      <th>4</th>\n",
       "      <td>5</td>\n",
       "      <td>The Chronicles of Narnia</td>\n",
       "      <td>C.S. Lewis</td>\n",
       "      <td>4.27</td>\n",
       "      <td>Journeys to the end of the world, fantastic cr...</td>\n",
       "      <td>Adventure</td>\n",
       "      <td>12,403</td>\n",
       "    </tr>\n",
       "    <tr>\n",
       "      <th>...</th>\n",
       "      <td>...</td>\n",
       "      <td>...</td>\n",
       "      <td>...</td>\n",
       "      <td>...</td>\n",
       "      <td>...</td>\n",
       "      <td>...</td>\n",
       "      <td>...</td>\n",
       "    </tr>\n",
       "    <tr>\n",
       "      <th>95</th>\n",
       "      <td>96</td>\n",
       "      <td>Crime and Punishment</td>\n",
       "      <td>Fyodor Dostoevsky</td>\n",
       "      <td>4.26</td>\n",
       "      <td>Raskolnikov, a destitute and desperate former ...</td>\n",
       "      <td>Philosophy</td>\n",
       "      <td>34,682</td>\n",
       "    </tr>\n",
       "    <tr>\n",
       "      <th>96</th>\n",
       "      <td>97</td>\n",
       "      <td>Harry Potter and the Sorcerer’s Stone</td>\n",
       "      <td>J.K. Rowling</td>\n",
       "      <td>4.47</td>\n",
       "      <td>\"Turning the envelope over, his hand trembling...</td>\n",
       "      <td>Fantasy</td>\n",
       "      <td>158,305</td>\n",
       "    </tr>\n",
       "    <tr>\n",
       "      <th>97</th>\n",
       "      <td>98</td>\n",
       "      <td>The Perks of Being a Wallflower</td>\n",
       "      <td>Stephen Chbosky</td>\n",
       "      <td>4.23</td>\n",
       "      <td>standing on the fringes of life...,offers a un...</td>\n",
       "      <td>Romance</td>\n",
       "      <td>88,671</td>\n",
       "    </tr>\n",
       "    <tr>\n",
       "      <th>98</th>\n",
       "      <td>99</td>\n",
       "      <td>Memoirs of a Geisha</td>\n",
       "      <td>Arthur Golden</td>\n",
       "      <td>4.15</td>\n",
       "      <td>A literary sensation and runaway bestseller, t...</td>\n",
       "      <td>Romance</td>\n",
       "      <td>35,502</td>\n",
       "    </tr>\n",
       "    <tr>\n",
       "      <th>99</th>\n",
       "      <td>100</td>\n",
       "      <td>Wuthering Heights</td>\n",
       "      <td>Emily Brontë</td>\n",
       "      <td>3.89</td>\n",
       "      <td>At the centre of this novel is the passionate ...</td>\n",
       "      <td>Romance</td>\n",
       "      <td>59,760</td>\n",
       "    </tr>\n",
       "  </tbody>\n",
       "</table>\n",
       "<p>98 rows × 7 columns</p>\n",
       "</div>"
      ],
      "text/plain": [
       "    index                                               name  \\\n",
       "0       1                                   The Hunger Games   \n",
       "1       2                                     The Book Thief   \n",
       "2       3  J.R.R. Tolkien 4-Book Boxed Set The Hobbit and...   \n",
       "3       4                         The Picture of Dorian Gray   \n",
       "4       5                           The Chronicles of Narnia   \n",
       "..    ...                                                ...   \n",
       "95     96                               Crime and Punishment   \n",
       "96     97              Harry Potter and the Sorcerer’s Stone   \n",
       "97     98                    The Perks of Being a Wallflower   \n",
       "98     99                                Memoirs of a Geisha   \n",
       "99    100                                  Wuthering Heights   \n",
       "\n",
       "               author  rating  \\\n",
       "0     Suzanne Collins    4.33   \n",
       "1        Markus Zusak    4.39   \n",
       "2      J.R.R. Tolkien    4.61   \n",
       "3         Oscar Wilde    4.12   \n",
       "4          C.S. Lewis    4.27   \n",
       "..                ...     ...   \n",
       "95  Fyodor Dostoevsky    4.26   \n",
       "96       J.K. Rowling    4.47   \n",
       "97    Stephen Chbosky    4.23   \n",
       "98      Arthur Golden    4.15   \n",
       "99       Emily Brontë    3.89   \n",
       "\n",
       "                                          description      genres    price  \n",
       "0   In the ruins of a place once known as North Am...     Fantasy  213,917  \n",
       "1   It is 1939. Nazi Germany. The country is holdi...  Historical  142,389  \n",
       "2   This four-volume, boxed set contains J.R.R. To...   Adventure    2,230  \n",
       "3   Oscar Wilde’s only novel is the dreamlike stor...      Horror   66,583  \n",
       "4   Journeys to the end of the world, fantastic cr...   Adventure   12,403  \n",
       "..                                                ...         ...      ...  \n",
       "95  Raskolnikov, a destitute and desperate former ...  Philosophy   34,682  \n",
       "96  \"Turning the envelope over, his hand trembling...     Fantasy  158,305  \n",
       "97  standing on the fringes of life...,offers a un...     Romance   88,671  \n",
       "98  A literary sensation and runaway bestseller, t...     Romance   35,502  \n",
       "99  At the centre of this novel is the passionate ...     Romance   59,760  \n",
       "\n",
       "[98 rows x 7 columns]"
      ]
     },
     "execution_count": 22,
     "metadata": {},
     "output_type": "execute_result"
    }
   ],
   "source": [
    "df"
   ]
  },
  {
   "cell_type": "code",
   "execution_count": 23,
   "metadata": {},
   "outputs": [
    {
     "name": "stderr",
     "output_type": "stream",
     "text": [
      "C:\\Users\\Mostafa\\AppData\\Local\\Temp\\ipykernel_11452\\29578229.py:2: SettingWithCopyWarning: \n",
      "A value is trying to be set on a copy of a slice from a DataFrame\n",
      "\n",
      "See the caveats in the documentation: https://pandas.pydata.org/pandas-docs/stable/user_guide/indexing.html#returning-a-view-versus-a-copy\n",
      "  df.drop(['index'], axis=1, inplace=True)\n"
     ]
    }
   ],
   "source": [
    "df.reset_index(drop=True, inplace=True)\n",
    "df.drop(['index'], axis=1, inplace=True)"
   ]
  },
  {
   "cell_type": "code",
   "execution_count": 24,
   "metadata": {},
   "outputs": [
    {
     "name": "stderr",
     "output_type": "stream",
     "text": [
      "C:\\Users\\Mostafa\\AppData\\Local\\Temp\\ipykernel_11452\\1937810517.py:1: SettingWithCopyWarning: \n",
      "A value is trying to be set on a copy of a slice from a DataFrame.\n",
      "Try using .loc[row_indexer,col_indexer] = value instead\n",
      "\n",
      "See the caveats in the documentation: https://pandas.pydata.org/pandas-docs/stable/user_guide/indexing.html#returning-a-view-versus-a-copy\n",
      "  df['image'] = 'https://mostafamohammdi.storage.iran.liara.space/' + df['name'] + '.jpg'\n",
      "C:\\Users\\Mostafa\\AppData\\Local\\Temp\\ipykernel_11452\\1937810517.py:2: SettingWithCopyWarning: \n",
      "A value is trying to be set on a copy of a slice from a DataFrame.\n",
      "Try using .loc[row_indexer,col_indexer] = value instead\n",
      "\n",
      "See the caveats in the documentation: https://pandas.pydata.org/pandas-docs/stable/user_guide/indexing.html#returning-a-view-versus-a-copy\n",
      "  df['image'] = df['image'].str.replace(' ', '%20')\n"
     ]
    }
   ],
   "source": [
    "df['image'] = 'https://mostafamohammdi.storage.iran.liara.space/' + df['name'] + '.jpg'\n",
    "df['image'] = df['image'].str.replace(' ', '%20')"
   ]
  },
  {
   "cell_type": "code",
   "execution_count": 26,
   "metadata": {},
   "outputs": [
    {
     "data": {
      "text/html": [
       "<div>\n",
       "<style scoped>\n",
       "    .dataframe tbody tr th:only-of-type {\n",
       "        vertical-align: middle;\n",
       "    }\n",
       "\n",
       "    .dataframe tbody tr th {\n",
       "        vertical-align: top;\n",
       "    }\n",
       "\n",
       "    .dataframe thead th {\n",
       "        text-align: right;\n",
       "    }\n",
       "</style>\n",
       "<table border=\"1\" class=\"dataframe\">\n",
       "  <thead>\n",
       "    <tr style=\"text-align: right;\">\n",
       "      <th></th>\n",
       "      <th>name</th>\n",
       "      <th>author</th>\n",
       "      <th>rating</th>\n",
       "      <th>description</th>\n",
       "      <th>genres</th>\n",
       "      <th>price</th>\n",
       "      <th>image</th>\n",
       "    </tr>\n",
       "  </thead>\n",
       "  <tbody>\n",
       "    <tr>\n",
       "      <th>0</th>\n",
       "      <td>The Hunger Games</td>\n",
       "      <td>Suzanne Collins</td>\n",
       "      <td>4.33</td>\n",
       "      <td>In the ruins of a place once known as North Am...</td>\n",
       "      <td>Fantasy</td>\n",
       "      <td>213,917</td>\n",
       "      <td>https://mostafamohammdi.storage.iran.liara.spa...</td>\n",
       "    </tr>\n",
       "    <tr>\n",
       "      <th>1</th>\n",
       "      <td>The Book Thief</td>\n",
       "      <td>Markus Zusak</td>\n",
       "      <td>4.39</td>\n",
       "      <td>It is 1939. Nazi Germany. The country is holdi...</td>\n",
       "      <td>Historical</td>\n",
       "      <td>142,389</td>\n",
       "      <td>https://mostafamohammdi.storage.iran.liara.spa...</td>\n",
       "    </tr>\n",
       "    <tr>\n",
       "      <th>2</th>\n",
       "      <td>J.R.R. Tolkien 4-Book Boxed Set The Hobbit and...</td>\n",
       "      <td>J.R.R. Tolkien</td>\n",
       "      <td>4.61</td>\n",
       "      <td>This four-volume, boxed set contains J.R.R. To...</td>\n",
       "      <td>Adventure</td>\n",
       "      <td>2,230</td>\n",
       "      <td>https://mostafamohammdi.storage.iran.liara.spa...</td>\n",
       "    </tr>\n",
       "    <tr>\n",
       "      <th>3</th>\n",
       "      <td>The Picture of Dorian Gray</td>\n",
       "      <td>Oscar Wilde</td>\n",
       "      <td>4.12</td>\n",
       "      <td>Oscar Wilde’s only novel is the dreamlike stor...</td>\n",
       "      <td>Horror</td>\n",
       "      <td>66,583</td>\n",
       "      <td>https://mostafamohammdi.storage.iran.liara.spa...</td>\n",
       "    </tr>\n",
       "    <tr>\n",
       "      <th>4</th>\n",
       "      <td>The Chronicles of Narnia</td>\n",
       "      <td>C.S. Lewis</td>\n",
       "      <td>4.27</td>\n",
       "      <td>Journeys to the end of the world, fantastic cr...</td>\n",
       "      <td>Adventure</td>\n",
       "      <td>12,403</td>\n",
       "      <td>https://mostafamohammdi.storage.iran.liara.spa...</td>\n",
       "    </tr>\n",
       "    <tr>\n",
       "      <th>...</th>\n",
       "      <td>...</td>\n",
       "      <td>...</td>\n",
       "      <td>...</td>\n",
       "      <td>...</td>\n",
       "      <td>...</td>\n",
       "      <td>...</td>\n",
       "      <td>...</td>\n",
       "    </tr>\n",
       "    <tr>\n",
       "      <th>93</th>\n",
       "      <td>Crime and Punishment</td>\n",
       "      <td>Fyodor Dostoevsky</td>\n",
       "      <td>4.26</td>\n",
       "      <td>Raskolnikov, a destitute and desperate former ...</td>\n",
       "      <td>Philosophy</td>\n",
       "      <td>34,682</td>\n",
       "      <td>https://mostafamohammdi.storage.iran.liara.spa...</td>\n",
       "    </tr>\n",
       "    <tr>\n",
       "      <th>94</th>\n",
       "      <td>Harry Potter and the Sorcerer’s Stone</td>\n",
       "      <td>J.K. Rowling</td>\n",
       "      <td>4.47</td>\n",
       "      <td>\"Turning the envelope over, his hand trembling...</td>\n",
       "      <td>Fantasy</td>\n",
       "      <td>158,305</td>\n",
       "      <td>https://mostafamohammdi.storage.iran.liara.spa...</td>\n",
       "    </tr>\n",
       "    <tr>\n",
       "      <th>95</th>\n",
       "      <td>The Perks of Being a Wallflower</td>\n",
       "      <td>Stephen Chbosky</td>\n",
       "      <td>4.23</td>\n",
       "      <td>standing on the fringes of life...,offers a un...</td>\n",
       "      <td>Romance</td>\n",
       "      <td>88,671</td>\n",
       "      <td>https://mostafamohammdi.storage.iran.liara.spa...</td>\n",
       "    </tr>\n",
       "    <tr>\n",
       "      <th>96</th>\n",
       "      <td>Memoirs of a Geisha</td>\n",
       "      <td>Arthur Golden</td>\n",
       "      <td>4.15</td>\n",
       "      <td>A literary sensation and runaway bestseller, t...</td>\n",
       "      <td>Romance</td>\n",
       "      <td>35,502</td>\n",
       "      <td>https://mostafamohammdi.storage.iran.liara.spa...</td>\n",
       "    </tr>\n",
       "    <tr>\n",
       "      <th>97</th>\n",
       "      <td>Wuthering Heights</td>\n",
       "      <td>Emily Brontë</td>\n",
       "      <td>3.89</td>\n",
       "      <td>At the centre of this novel is the passionate ...</td>\n",
       "      <td>Romance</td>\n",
       "      <td>59,760</td>\n",
       "      <td>https://mostafamohammdi.storage.iran.liara.spa...</td>\n",
       "    </tr>\n",
       "  </tbody>\n",
       "</table>\n",
       "<p>98 rows × 7 columns</p>\n",
       "</div>"
      ],
      "text/plain": [
       "                                                 name             author  \\\n",
       "0                                    The Hunger Games    Suzanne Collins   \n",
       "1                                      The Book Thief       Markus Zusak   \n",
       "2   J.R.R. Tolkien 4-Book Boxed Set The Hobbit and...     J.R.R. Tolkien   \n",
       "3                          The Picture of Dorian Gray        Oscar Wilde   \n",
       "4                            The Chronicles of Narnia         C.S. Lewis   \n",
       "..                                                ...                ...   \n",
       "93                               Crime and Punishment  Fyodor Dostoevsky   \n",
       "94              Harry Potter and the Sorcerer’s Stone       J.K. Rowling   \n",
       "95                    The Perks of Being a Wallflower    Stephen Chbosky   \n",
       "96                                Memoirs of a Geisha      Arthur Golden   \n",
       "97                                  Wuthering Heights       Emily Brontë   \n",
       "\n",
       "    rating                                        description      genres  \\\n",
       "0     4.33  In the ruins of a place once known as North Am...     Fantasy   \n",
       "1     4.39  It is 1939. Nazi Germany. The country is holdi...  Historical   \n",
       "2     4.61  This four-volume, boxed set contains J.R.R. To...   Adventure   \n",
       "3     4.12  Oscar Wilde’s only novel is the dreamlike stor...      Horror   \n",
       "4     4.27  Journeys to the end of the world, fantastic cr...   Adventure   \n",
       "..     ...                                                ...         ...   \n",
       "93    4.26  Raskolnikov, a destitute and desperate former ...  Philosophy   \n",
       "94    4.47  \"Turning the envelope over, his hand trembling...     Fantasy   \n",
       "95    4.23  standing on the fringes of life...,offers a un...     Romance   \n",
       "96    4.15  A literary sensation and runaway bestseller, t...     Romance   \n",
       "97    3.89  At the centre of this novel is the passionate ...     Romance   \n",
       "\n",
       "      price                                              image  \n",
       "0   213,917  https://mostafamohammdi.storage.iran.liara.spa...  \n",
       "1   142,389  https://mostafamohammdi.storage.iran.liara.spa...  \n",
       "2     2,230  https://mostafamohammdi.storage.iran.liara.spa...  \n",
       "3    66,583  https://mostafamohammdi.storage.iran.liara.spa...  \n",
       "4    12,403  https://mostafamohammdi.storage.iran.liara.spa...  \n",
       "..      ...                                                ...  \n",
       "93   34,682  https://mostafamohammdi.storage.iran.liara.spa...  \n",
       "94  158,305  https://mostafamohammdi.storage.iran.liara.spa...  \n",
       "95   88,671  https://mostafamohammdi.storage.iran.liara.spa...  \n",
       "96   35,502  https://mostafamohammdi.storage.iran.liara.spa...  \n",
       "97   59,760  https://mostafamohammdi.storage.iran.liara.spa...  \n",
       "\n",
       "[98 rows x 7 columns]"
      ]
     },
     "execution_count": 26,
     "metadata": {},
     "output_type": "execute_result"
    }
   ],
   "source": [
    "df"
   ]
  },
  {
   "cell_type": "code",
   "execution_count": 27,
   "metadata": {},
   "outputs": [],
   "source": [
    "df.to_json('books_cleaned.json',orient='records')"
   ]
  },
  {
   "cell_type": "code",
   "execution_count": null,
   "metadata": {},
   "outputs": [],
   "source": []
  }
 ],
 "metadata": {
  "kernelspec": {
   "display_name": "Python 3",
   "language": "python",
   "name": "python3"
  },
  "language_info": {
   "codemirror_mode": {
    "name": "ipython",
    "version": 3
   },
   "file_extension": ".py",
   "mimetype": "text/x-python",
   "name": "python",
   "nbconvert_exporter": "python",
   "pygments_lexer": "ipython3",
   "version": "3.10.7"
  },
  "orig_nbformat": 4
 },
 "nbformat": 4,
 "nbformat_minor": 2
}
